{
 "cells": [
  {
   "cell_type": "code",
   "execution_count": 1,
   "metadata": {},
   "outputs": [],
   "source": [
    "# import modules \n",
    "import numpy as np\n",
    "import pandas as pd\n",
    "import re\n",
    "import glob\n",
    "import os\n",
    "from parse_data import parse_data"
   ]
  },
  {
   "cell_type": "code",
   "execution_count": 2,
   "metadata": {},
   "outputs": [],
   "source": [
    "# inputs  \n",
    "\n",
    "sess = 1\n",
    "\n",
    "# input addresses\n",
    "taskdir = os.path.join(\"..\", \"task_sess%d\"%sess)\n",
    "consentfile = os.path.join(taskdir, \"consent.csv\")\n",
    "selfreportfile = os.path.join(taskdir, \"selfreport.csv\")\n",
    "taskdata_dir = os.path.join(taskdir, \"data\")\n",
    "\n",
    "# output addresses\n",
    "consent_out = os.path.join(\"data\", \"consent_sess%d.csv\"%sess)\n",
    "selfreport_out = os.path.join(\"data\", \"selfreport_sess%d.csv\"%sess)\n",
    "taskdata_outdir = os.path.join(\"data\")\n",
    "hdrdata_out = os.path.join(\"data\", \"hdrdata_sess%d.csv\"%sess)\n",
    "bonusdata_out = os.path.join(\"data\", \"bonus_sess%d.csv\"%sess)\n",
    "\n",
    "DD_choices = {\n",
    "    \"1\": \"smaller\",\n",
    "    \"2\": \"larger\"\n",
    "}\n",
    "BIS_choices = {\n",
    "    \"1\": \"Rarely/Never\",\n",
    "    \"2\": \"Occasionally\",\n",
    "    \"3\": \"Often\",\n",
    "    \"4\": \"Almost Always / Always\"\n",
    "}\n",
    "UP_choices = {\n",
    "    \"1\": \"Agree strongly\",\n",
    "    \"2\": \"Agree somewhat\",\n",
    "    \"3\": \"Disagree somewhat\",\n",
    "    \"4\": \"Disagree strongly\"\n",
    "}\n",
    "\n",
    "if not os.path.exists(taskdata_outdir):\n",
    "    os.makedirs(taskdata_outdir)"
   ]
  },
  {
   "cell_type": "code",
   "execution_count": 41,
   "metadata": {},
   "outputs": [],
   "source": [
    "# read consent.csv\n",
    "consentdata = pd.read_csv(consentfile)\n",
    "consentdata = consentdata[['workerId', \"EndDate\", 'demo1', 'demo2', 'demo3', 'demo4', 'demo5', 'demo7']]\n",
    "consentdata = consentdata.rename(columns={\"workerId\": \"worker_id\", \n",
    "                                          \"EndDate\": \"consent_date\",\n",
    "                                          \"demo1\": \"age\",\n",
    "                                          \"demo2\": \"gender\",\n",
    "                                          \"demo3\": \"education\",\n",
    "                                          \"demo4\": \"handness\",\n",
    "                                          \"demo5\": \"language\",\n",
    "                                          \"demo7\": \"race\"})\n",
    "\n",
    "# add unidentifiable IDs\n",
    "consentdata.sort_values(\"consent_date\", ignore_index = True)\n",
    "consentdata.insert(0, \"id\", [\"s\" + str(x + 1).zfill(4) for x in consentdata.index]) \n",
    "\n",
    "# save data\n",
    "consentdata.to_csv(consent_out, index = False)"
   ]
  },
  {
   "cell_type": "code",
   "execution_count": 44,
   "metadata": {},
   "outputs": [],
   "source": [
    "## load data\n",
    "selfreportdata = pd.read_csv(selfreportfile)\n",
    "selfreportdata = selfreportdata.drop(['StartDate', 'Status', 'IPAddress', 'Progress',\\\n",
    "                                      'RecordedDate', 'ResponseId', 'RecipientLastName',\\\n",
    "                                      'RecipientFirstName', 'RecipientEmail','ExternalReference',\\\n",
    "                                      'LocationLatitude', 'LocationLongitude', 'DistributionChannel',\\\n",
    "                                      'UserLanguage', 'assignmentId', 'hitId'], axis = 1)\n",
    "selfreportdata = selfreportdata.rename(columns={\"workerId\": \"worker_id\", \"Finished\": \"selfreport_finished\", \"Duration (in seconds)\": \"selfreport_duration\",\n",
    "                        \"EndDate\": \"selfreport_date\"})\n",
    "\n",
    "## sort entries by date\n",
    "selfreportdata = selfreportdata.sort_values(\"selfreport_date\", ignore_index = True)\n",
    "\n",
    "## match id and delete worker_id\n",
    "selfreportdata = pd.merge(selfreportdata, consentdata[['worker_id', 'id']], how = \"left\", left_on = [\"worker_id\"], right_on = [\"worker_id\"])\n",
    "selfreportdata.pop(\"worker_id\")\n",
    "tmp = selfreportdata.pop(\"id\"); selfreportdata.insert(0, \"id\", tmp) # \n",
    "selfreportdata.sort_values('id') # sort by id \n",
    "\n",
    "## save data\n",
    "selfreportdata.to_csv(selfreport_out)\n",
    "\n",
    "# save data\n",
    "selfreportdata.to_csv(selfreport_out,  index = False)"
   ]
  },
  {
   "cell_type": "code",
   "execution_count": 5,
   "metadata": {},
   "outputs": [
    {
     "name": "stdout",
     "output_type": "stream",
     "text": [
      "Parse data for worker A16Z9FSSF1X74O\n",
      "Counterbalance group: A\n",
      "2 blocks are saved.\n",
      "The block duration, measured by last sellTime - first trialStartTime, is 599.82 s\n",
      "The block duration, measured by last sellTime - first trialStartTime, is 593.56 s\n"
     ]
    },
    {
     "ename": "NameError",
     "evalue": "name 'consentdata' is not defined",
     "output_type": "error",
     "traceback": [
      "\u001b[0;31m---------------------------------------------------------------------------\u001b[0m",
      "\u001b[0;31mNameError\u001b[0m                                 Traceback (most recent call last)",
      "\u001b[0;32m<ipython-input-5-35ed94090d07>\u001b[0m in \u001b[0;36m<module>\u001b[0;34m\u001b[0m\n\u001b[1;32m     19\u001b[0m \u001b[0;32mfor\u001b[0m \u001b[0mfile\u001b[0m \u001b[0;32min\u001b[0m \u001b[0mfiles\u001b[0m\u001b[0;34m:\u001b[0m\u001b[0;34m\u001b[0m\u001b[0;34m\u001b[0m\u001b[0m\n\u001b[1;32m     20\u001b[0m     \u001b[0mcleandata\u001b[0m\u001b[0;34m,\u001b[0m \u001b[0mworker_id\u001b[0m\u001b[0;34m,\u001b[0m \u001b[0mcb\u001b[0m\u001b[0;34m,\u001b[0m \u001b[0mnumblock\u001b[0m\u001b[0;34m,\u001b[0m \u001b[0mblockdurations\u001b[0m \u001b[0;34m=\u001b[0m \u001b[0mparse_data\u001b[0m\u001b[0;34m(\u001b[0m\u001b[0mfile\u001b[0m\u001b[0;34m,\u001b[0m \u001b[0mtaskdata_outdir\u001b[0m\u001b[0;34m)\u001b[0m\u001b[0;34m\u001b[0m\u001b[0;34m\u001b[0m\u001b[0m\n\u001b[0;32m---> 21\u001b[0;31m     \u001b[0mthisid\u001b[0m \u001b[0;34m=\u001b[0m \u001b[0mconsentdata\u001b[0m\u001b[0;34m[\u001b[0m\u001b[0;34m'id'\u001b[0m\u001b[0;34m]\u001b[0m\u001b[0;34m[\u001b[0m\u001b[0mnp\u001b[0m\u001b[0;34m.\u001b[0m\u001b[0mwhere\u001b[0m\u001b[0;34m(\u001b[0m\u001b[0mconsentdata\u001b[0m\u001b[0;34m[\u001b[0m\u001b[0;34m'worker_id'\u001b[0m\u001b[0;34m]\u001b[0m \u001b[0;34m==\u001b[0m \u001b[0mworker_id\u001b[0m\u001b[0;34m)\u001b[0m\u001b[0;34m[\u001b[0m\u001b[0;36m0\u001b[0m\u001b[0;34m]\u001b[0m\u001b[0;34m]\u001b[0m\u001b[0;34m.\u001b[0m\u001b[0mvalues\u001b[0m\u001b[0;34m[\u001b[0m\u001b[0;36m0\u001b[0m\u001b[0;34m]\u001b[0m\u001b[0;34m\u001b[0m\u001b[0;34m\u001b[0m\u001b[0m\n\u001b[0m\u001b[1;32m     22\u001b[0m     \u001b[0mhdrdata\u001b[0m\u001b[0;34m[\u001b[0m\u001b[0;34m'id'\u001b[0m\u001b[0;34m]\u001b[0m\u001b[0;34m.\u001b[0m\u001b[0mappend\u001b[0m\u001b[0;34m(\u001b[0m\u001b[0mthisid\u001b[0m\u001b[0;34m)\u001b[0m\u001b[0;34m\u001b[0m\u001b[0;34m\u001b[0m\u001b[0m\n\u001b[1;32m     23\u001b[0m     \u001b[0mhdrdata\u001b[0m\u001b[0;34m[\u001b[0m\u001b[0;34m'cb'\u001b[0m\u001b[0;34m]\u001b[0m\u001b[0;34m.\u001b[0m\u001b[0mappend\u001b[0m\u001b[0;34m(\u001b[0m\u001b[0mcb\u001b[0m\u001b[0;34m)\u001b[0m\u001b[0;34m\u001b[0m\u001b[0;34m\u001b[0m\u001b[0m\n",
      "\u001b[0;31mNameError\u001b[0m: name 'consentdata' is not defined"
     ]
    }
   ],
   "source": [
    "# load wtw data, creating a trialdata file for each participant\n",
    "# a hdrdata for all participants\n",
    "# and a bonus data for all VALID participants\n",
    "# before running the for loop, please make sure all data files are valid\n",
    "\n",
    "files = glob.glob(os.path.join(taskdata_dir, \"*\"))\n",
    "hdrdata = {\n",
    "    \"id\": [],\n",
    "    \"cb\": [],\n",
    "    \"sess\": [],\n",
    "    \"date\": [],\n",
    "}\n",
    "bonusdata = {\n",
    "    \"worker_id\": [],\n",
    "    \"bonus\": []\n",
    "}\n",
    "\n",
    "date_parser = re.compile(os.path.join(taskdata_dir, \"wtw_.*_PARTICIPANT_SESSION_(.*)_.*.csv\"))\n",
    "for file in files:\n",
    "    cleandata, worker_id, cb, numblock, blockdurations = parse_data(file, taskdata_outdir)\n",
    "    thisid = consentdata['id'][np.where(consentdata['worker_id'] == worker_id)[0]].values[0]\n",
    "    hdrdata['id'].append(thisid)\n",
    "    hdrdata['cb'].append(cb)\n",
    "    hdrdata['sess'].append(1)\n",
    "    hdrdata['date'].append(date_parser.findall(file)[0])\n",
    "    \n",
    "    bonusdata['worker_id'].append(worker_id)\n",
    "    bonusdata['bonus'].append(max(cleandata.totalEarnings) / 100)\n",
    "    cleandata.to_csv(os.path.join(taskdata_outdir, \"task-\" + thisid + \"-sess1.csv\"), index = False)\n",
    "\n",
    "# save hdrdata and bonus data\n",
    "hdrdata = pd.DataFrame(hdrdata).sort_values(\"id\", ignore_index = True)\n",
    "hdrdata.to_csv(hdrdata_out, index = False)\n",
    "\n",
    "bonusdata = pd.DataFrame(bonusdata)\n",
    "bonusdata.to_csv(bonusdata_out, index=False, header = False)"
   ]
  },
  {
   "cell_type": "code",
   "execution_count": null,
   "metadata": {},
   "outputs": [],
   "source": []
  }
 ],
 "metadata": {
  "kernelspec": {
   "display_name": "Python 3",
   "language": "python",
   "name": "python3"
  },
  "language_info": {
   "codemirror_mode": {
    "name": "ipython",
    "version": 3
   },
   "file_extension": ".py",
   "mimetype": "text/x-python",
   "name": "python",
   "nbconvert_exporter": "python",
   "pygments_lexer": "ipython3",
   "version": "3.8.5"
  }
 },
 "nbformat": 4,
 "nbformat_minor": 4
}
