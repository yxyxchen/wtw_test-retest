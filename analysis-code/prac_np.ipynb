{
 "cells": [
  {
   "cell_type": "code",
   "execution_count": 14,
   "metadata": {},
   "outputs": [
    {
     "data": {
      "text/plain": [
       "\u001b[0;31mSignature:\u001b[0m \u001b[0mnp\u001b[0m\u001b[0;34m.\u001b[0m\u001b[0mrepeat\u001b[0m\u001b[0;34m(\u001b[0m\u001b[0ma\u001b[0m\u001b[0;34m,\u001b[0m \u001b[0mrepeats\u001b[0m\u001b[0;34m,\u001b[0m \u001b[0maxis\u001b[0m\u001b[0;34m=\u001b[0m\u001b[0;32mNone\u001b[0m\u001b[0;34m)\u001b[0m\u001b[0;34m\u001b[0m\u001b[0;34m\u001b[0m\u001b[0m\n",
       "\u001b[0;31mDocstring:\u001b[0m\n",
       "Repeat elements of an array.\n",
       "\n",
       "Parameters\n",
       "----------\n",
       "a : array_like\n",
       "    Input array.\n",
       "repeats : int or array of ints\n",
       "    The number of repetitions for each element.  `repeats` is broadcasted\n",
       "    to fit the shape of the given axis.\n",
       "axis : int, optional\n",
       "    The axis along which to repeat values.  By default, use the\n",
       "    flattened input array, and return a flat output array.\n",
       "\n",
       "Returns\n",
       "-------\n",
       "repeated_array : ndarray\n",
       "    Output array which has the same shape as `a`, except along\n",
       "    the given axis.\n",
       "\n",
       "See Also\n",
       "--------\n",
       "tile : Tile an array.\n",
       "\n",
       "Examples\n",
       "--------\n",
       ">>> np.repeat(3, 4)\n",
       "array([3, 3, 3, 3])\n",
       ">>> x = np.array([[1,2],[3,4]])\n",
       ">>> np.repeat(x, 2)\n",
       "array([1, 1, 2, 2, 3, 3, 4, 4])\n",
       ">>> np.repeat(x, 3, axis=1)\n",
       "array([[1, 1, 1, 2, 2, 2],\n",
       "       [3, 3, 3, 4, 4, 4]])\n",
       ">>> np.repeat(x, [1, 2], axis=0)\n",
       "array([[1, 2],\n",
       "       [3, 4],\n",
       "       [3, 4]])\n",
       "\u001b[0;31mFile:\u001b[0m      ~/opt/anaconda3/lib/python3.8/site-packages/numpy/core/fromnumeric.py\n",
       "\u001b[0;31mType:\u001b[0m      function\n"
      ]
     },
     "metadata": {},
     "output_type": "display_data"
    }
   ],
   "source": [
    "import numpy as np\n",
    "\n",
    "\n",
    "np.zeros((2,3))\n",
    "np.eye(3)\n",
    "np.array([[1,2], [3,4]])\n",
    "\n",
    "np.arange(3)\n",
    "\n",
    "\n",
    "np.repeat?\n"
   ]
  },
  {
   "cell_type": "code",
   "execution_count": null,
   "metadata": {},
   "outputs": [],
   "source": []
  }
 ],
 "metadata": {
  "kernelspec": {
   "display_name": "Python 3",
   "language": "python",
   "name": "python3"
  },
  "language_info": {
   "codemirror_mode": {
    "name": "ipython",
    "version": 3
   },
   "file_extension": ".py",
   "mimetype": "text/x-python",
   "name": "python",
   "nbconvert_exporter": "python",
   "pygments_lexer": "ipython3",
   "version": "3.8.5"
  }
 },
 "nbformat": 4,
 "nbformat_minor": 4
}
